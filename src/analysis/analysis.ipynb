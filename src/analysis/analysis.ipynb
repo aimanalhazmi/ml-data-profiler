{
 "cells": [
  {
   "cell_type": "markdown",
   "id": "1a1bd9f5-e55b-45b8-a79d-c88b0e4e37fb",
   "metadata": {},
   "source": [
    "# Setup"
   ]
  },
  {
   "cell_type": "code",
   "execution_count": 3,
   "id": "435418f0-b64b-4b46-b47c-a507d3c79632",
   "metadata": {},
   "outputs": [],
   "source": [
    "import numpy as np\n",
    "import pandas as pd\n",
    "from matplotlib import pyplot as plt\n",
    "import re\n",
    "\n",
    "pd.set_option('display.max_colwidth',200)"
   ]
  },
  {
   "cell_type": "code",
   "execution_count": 5,
   "id": "b54a6f1b-83a9-424e-b8c1-36c399cf0d0e",
   "metadata": {},
   "outputs": [],
   "source": [
    "import sys\n",
    "import os\n",
    "sys.path.append(os.path.abspath(\"../..\"))"
   ]
  },
  {
   "cell_type": "code",
   "execution_count": null,
   "id": "a3dc8626-138c-44b9-a88a-2c14325f8890",
   "metadata": {},
   "outputs": [],
   "source": []
  },
  {
   "cell_type": "code",
   "execution_count": 8,
   "id": "62ad385d-1380-49e2-a6c5-f995b0a07bf2",
   "metadata": {},
   "outputs": [
    {
     "name": "stderr",
     "output_type": "stream",
     "text": [
      "/Users/aiman/Studium/Master/2.Semester/EDML/ml-data-profiler/.venv/lib/python3.12/site-packages/tqdm/auto.py:21: TqdmWarning: IProgress not found. Please update jupyter and ipywidgets. See https://ipywidgets.readthedocs.io/en/stable/user_install.html\n",
      "  from .autonotebook import tqdm as notebook_tqdm\n",
      "2025-07-06 13:17:18.838 WARNING streamlit.runtime.caching.cache_data_api: No runtime found, using MemoryCacheStorageManager\n"
     ]
    }
   ],
   "source": [
    "from src.ingestion.loader import load_dataset"
   ]
  },
  {
   "cell_type": "markdown",
   "id": "15ae6e34-8245-4c74-84dd-117e654f332c",
   "metadata": {},
   "source": [
    "# Load Dataset"
   ]
  },
  {
   "cell_type": "code",
   "execution_count": 11,
   "id": "a27046b9-2a38-4c55-a3e3-1e22379c43fe",
   "metadata": {},
   "outputs": [],
   "source": [
    "url = \"https://huggingface.co/datasets/scikit-learn/adult-census-income\""
   ]
  },
  {
   "cell_type": "code",
   "execution_count": 29,
   "id": "201f2fb0-3742-4e65-ad3d-061d2a4f9156",
   "metadata": {},
   "outputs": [],
   "source": [
    "url = \"https://www.kaggle.com/datasets/adarsh1077/comprehensive-vehicle-specifications-dataset\""
   ]
  },
  {
   "cell_type": "code",
   "execution_count": 31,
   "id": "5918f202-2300-49c9-b71d-67dceb582e73",
   "metadata": {},
   "outputs": [
    {
     "name": "stderr",
     "output_type": "stream",
     "text": [
      "2025-07-06 13:19:13.376 Thread 'MainThread': missing ScriptRunContext! This warning can be ignored when running in bare mode.\n",
      "2025-07-06 13:19:13.377 Thread 'MainThread': missing ScriptRunContext! This warning can be ignored when running in bare mode.\n",
      "2025-07-06 13:19:13.377 Thread 'MainThread': missing ScriptRunContext! This warning can be ignored when running in bare mode.\n"
     ]
    },
    {
     "name": "stdout",
     "output_type": "stream",
     "text": [
      "Dataset URL: https://www.kaggle.com/datasets/adarsh1077/comprehensive-vehicle-specifications-dataset\n"
     ]
    },
    {
     "name": "stderr",
     "output_type": "stream",
     "text": [
      "2025-07-06 13:19:13.883 Thread 'Thread-7': missing ScriptRunContext! This warning can be ignored when running in bare mode.\n",
      "2025-07-06 13:19:13.885 Thread 'Thread-7': missing ScriptRunContext! This warning can be ignored when running in bare mode.\n",
      "2025-07-06 13:19:15.578 Thread 'MainThread': missing ScriptRunContext! This warning can be ignored when running in bare mode.\n",
      "2025-07-06 13:19:15.578 Thread 'MainThread': missing ScriptRunContext! This warning can be ignored when running in bare mode.\n"
     ]
    },
    {
     "name": "stdout",
     "output_type": "stream",
     "text": [
      "../../data/kaggle_temp/structured_bike_data_cleaned.json was deleted.\n"
     ]
    }
   ],
   "source": [
    "df = load_dataset(url)"
   ]
  },
  {
   "cell_type": "code",
   "execution_count": 15,
   "id": "8166685f-6baf-42a8-98f2-2af0b132337f",
   "metadata": {},
   "outputs": [],
   "source": [
    "target_col = \"income\"\n",
    "sensitive_col = [\"sex\", \"race\"]"
   ]
  },
  {
   "cell_type": "code",
   "execution_count": 33,
   "id": "28fad701-2bfe-4709-a342-96730a841228",
   "metadata": {},
   "outputs": [
    {
     "data": {
      "text/html": [
       "<div>\n",
       "<style scoped>\n",
       "    .dataframe tbody tr th:only-of-type {\n",
       "        vertical-align: middle;\n",
       "    }\n",
       "\n",
       "    .dataframe tbody tr th {\n",
       "        vertical-align: top;\n",
       "    }\n",
       "\n",
       "    .dataframe thead th {\n",
       "        text-align: right;\n",
       "    }\n",
       "</style>\n",
       "<table border=\"1\" class=\"dataframe\">\n",
       "  <thead>\n",
       "    <tr style=\"text-align: right;\">\n",
       "      <th></th>\n",
       "      <th>brand</th>\n",
       "      <th>name</th>\n",
       "      <th>price</th>\n",
       "      <th>rating</th>\n",
       "      <th>mileage</th>\n",
       "      <th>cc</th>\n",
       "      <th>power</th>\n",
       "      <th>type</th>\n",
       "    </tr>\n",
       "  </thead>\n",
       "  <tbody>\n",
       "    <tr>\n",
       "      <th>0</th>\n",
       "      <td>Honda</td>\n",
       "      <td>Honda SP 125</td>\n",
       "      <td>Rs.89,468 - 1 Lakh*(View On Road Price)</td>\n",
       "      <td>4.5/5</td>\n",
       "      <td>60 kmpl</td>\n",
       "      <td>123.94 cc</td>\n",
       "      <td>10.87 PS</td>\n",
       "      <td>bike</td>\n",
       "    </tr>\n",
       "    <tr>\n",
       "      <th>1</th>\n",
       "      <td>Honda</td>\n",
       "      <td>Honda Shine</td>\n",
       "      <td>Rs.83,251 - 89,772*(View On Road Price)</td>\n",
       "      <td>4.3/5</td>\n",
       "      <td>55 kmpl</td>\n",
       "      <td>123.94 cc</td>\n",
       "      <td>10.74 PS</td>\n",
       "      <td>bike</td>\n",
       "    </tr>\n",
       "    <tr>\n",
       "      <th>2</th>\n",
       "      <td>Honda</td>\n",
       "      <td>Honda Hornet 2.0</td>\n",
       "      <td>Rs.1.43 - 1.57 Lakh*(View On Road Price)</td>\n",
       "      <td>4.7/5</td>\n",
       "      <td>57.35 kmpl</td>\n",
       "      <td>184.4 cc</td>\n",
       "      <td>17.26 PS</td>\n",
       "      <td>bike</td>\n",
       "    </tr>\n",
       "    <tr>\n",
       "      <th>3</th>\n",
       "      <td>Honda</td>\n",
       "      <td>Honda SP160</td>\n",
       "      <td>Rs.1.21 - 1.28 Lakh*(View On Road Price)</td>\n",
       "      <td>4.6/5</td>\n",
       "      <td>65 kmpl</td>\n",
       "      <td>162.71 cc</td>\n",
       "      <td>13.46 PS</td>\n",
       "      <td>bike</td>\n",
       "    </tr>\n",
       "    <tr>\n",
       "      <th>4</th>\n",
       "      <td>Honda</td>\n",
       "      <td>Honda Hness CB350</td>\n",
       "      <td>Rs.2.11 - 2.16 Lakh*(View On Road Price)</td>\n",
       "      <td>4.3/5</td>\n",
       "      <td>45.8 kmpl</td>\n",
       "      <td>348.36 cc</td>\n",
       "      <td>21.07 PS</td>\n",
       "      <td>bike</td>\n",
       "    </tr>\n",
       "    <tr>\n",
       "      <th>...</th>\n",
       "      <td>...</td>\n",
       "      <td>...</td>\n",
       "      <td>...</td>\n",
       "      <td>...</td>\n",
       "      <td>...</td>\n",
       "      <td>...</td>\n",
       "      <td>...</td>\n",
       "      <td>...</td>\n",
       "    </tr>\n",
       "    <tr>\n",
       "      <th>556</th>\n",
       "      <td>e-Sprinto</td>\n",
       "      <td>e-Sprinto LS</td>\n",
       "      <td>Rs.76,000 - 82,000*(View On Road Price)</td>\n",
       "      <td>4.0/5</td>\n",
       "      <td>250 W</td>\n",
       "      <td>3-4 Hr</td>\n",
       "      <td>NaN</td>\n",
       "      <td>bike</td>\n",
       "    </tr>\n",
       "    <tr>\n",
       "      <th>557</th>\n",
       "      <td>e-Sprinto</td>\n",
       "      <td>e-Sprinto Roamy</td>\n",
       "      <td>Rs.54,999*(View On Road Price)</td>\n",
       "      <td>3.7/5</td>\n",
       "      <td>250 W</td>\n",
       "      <td>3-4 Hr</td>\n",
       "      <td>NaN</td>\n",
       "      <td>bike</td>\n",
       "    </tr>\n",
       "    <tr>\n",
       "      <th>558</th>\n",
       "      <td>e-Sprinto</td>\n",
       "      <td>Sprinto HS</td>\n",
       "      <td>Rs.86,000 - 97,000*(View On Road Price)</td>\n",
       "      <td>5.0/5</td>\n",
       "      <td>800 W</td>\n",
       "      <td>3-4 Hr</td>\n",
       "      <td>NaN</td>\n",
       "      <td>bike</td>\n",
       "    </tr>\n",
       "    <tr>\n",
       "      <th>559</th>\n",
       "      <td>iVOOMi</td>\n",
       "      <td>iVOOMi Jeet X</td>\n",
       "      <td>Rs.84,999 - 1.05 Lakh*(View On Road Price)</td>\n",
       "      <td>4.7/5</td>\n",
       "      <td>2.1 kW</td>\n",
       "      <td>5.45 Hr</td>\n",
       "      <td>NaN</td>\n",
       "      <td>bike</td>\n",
       "    </tr>\n",
       "    <tr>\n",
       "      <th>560</th>\n",
       "      <td>iVOOMi</td>\n",
       "      <td>iVOOMi S1</td>\n",
       "      <td>Rs.54,999 - 84,999*(View On Road Price)</td>\n",
       "      <td>4.4/5</td>\n",
       "      <td>1.8 kW</td>\n",
       "      <td>NaN</td>\n",
       "      <td>NaN</td>\n",
       "      <td>bike</td>\n",
       "    </tr>\n",
       "  </tbody>\n",
       "</table>\n",
       "<p>561 rows × 8 columns</p>\n",
       "</div>"
      ],
      "text/plain": [
       "         brand               name                                       price  \\\n",
       "0        Honda       Honda SP 125     Rs.89,468 - 1 Lakh*(View On Road Price)   \n",
       "1        Honda        Honda Shine     Rs.83,251 - 89,772*(View On Road Price)   \n",
       "2        Honda   Honda Hornet 2.0    Rs.1.43 - 1.57 Lakh*(View On Road Price)   \n",
       "3        Honda        Honda SP160    Rs.1.21 - 1.28 Lakh*(View On Road Price)   \n",
       "4        Honda  Honda Hness CB350    Rs.2.11 - 2.16 Lakh*(View On Road Price)   \n",
       "..         ...                ...                                         ...   \n",
       "556  e-Sprinto       e-Sprinto LS     Rs.76,000 - 82,000*(View On Road Price)   \n",
       "557  e-Sprinto    e-Sprinto Roamy              Rs.54,999*(View On Road Price)   \n",
       "558  e-Sprinto         Sprinto HS     Rs.86,000 - 97,000*(View On Road Price)   \n",
       "559     iVOOMi      iVOOMi Jeet X  Rs.84,999 - 1.05 Lakh*(View On Road Price)   \n",
       "560     iVOOMi          iVOOMi S1     Rs.54,999 - 84,999*(View On Road Price)   \n",
       "\n",
       "    rating     mileage         cc     power  type  \n",
       "0    4.5/5     60 kmpl  123.94 cc  10.87 PS  bike  \n",
       "1    4.3/5     55 kmpl  123.94 cc  10.74 PS  bike  \n",
       "2    4.7/5  57.35 kmpl   184.4 cc  17.26 PS  bike  \n",
       "3    4.6/5     65 kmpl  162.71 cc  13.46 PS  bike  \n",
       "4    4.3/5   45.8 kmpl  348.36 cc  21.07 PS  bike  \n",
       "..     ...         ...        ...       ...   ...  \n",
       "556  4.0/5       250 W     3-4 Hr       NaN  bike  \n",
       "557  3.7/5       250 W     3-4 Hr       NaN  bike  \n",
       "558  5.0/5       800 W     3-4 Hr       NaN  bike  \n",
       "559  4.7/5      2.1 kW    5.45 Hr       NaN  bike  \n",
       "560  4.4/5      1.8 kW        NaN       NaN  bike  \n",
       "\n",
       "[561 rows x 8 columns]"
      ]
     },
     "execution_count": 33,
     "metadata": {},
     "output_type": "execute_result"
    }
   ],
   "source": [
    "df"
   ]
  },
  {
   "cell_type": "code",
   "execution_count": 35,
   "id": "387cf5d2-8e30-4f60-8e72-a6b1c7159238",
   "metadata": {},
   "outputs": [
    {
     "name": "stdout",
     "output_type": "stream",
     "text": [
      "<class 'pandas.core.frame.DataFrame'>\n",
      "RangeIndex: 561 entries, 0 to 560\n",
      "Data columns (total 8 columns):\n",
      " #   Column   Non-Null Count  Dtype \n",
      "---  ------   --------------  ----- \n",
      " 0   brand    561 non-null    object\n",
      " 1   name     561 non-null    object\n",
      " 2   price    561 non-null    object\n",
      " 3   rating   561 non-null    object\n",
      " 4   mileage  544 non-null    object\n",
      " 5   cc       455 non-null    object\n",
      " 6   power    272 non-null    object\n",
      " 7   type     561 non-null    object\n",
      "dtypes: object(8)\n",
      "memory usage: 35.2+ KB\n"
     ]
    }
   ],
   "source": [
    "df.info()"
   ]
  },
  {
   "cell_type": "code",
   "execution_count": 37,
   "id": "ff0abbff-1ed5-4c9e-a167-24cd2cd636d6",
   "metadata": {},
   "outputs": [
    {
     "data": {
      "text/plain": [
       "4488"
      ]
     },
     "execution_count": 37,
     "metadata": {},
     "output_type": "execute_result"
    }
   ],
   "source": [
    "df.size"
   ]
  },
  {
   "cell_type": "code",
   "execution_count": 65,
   "id": "0bdceb09-2eba-4858-a66d-dc21d2394c09",
   "metadata": {},
   "outputs": [
    {
     "data": {
      "text/plain": [
       "(561, 8)"
      ]
     },
     "execution_count": 65,
     "metadata": {},
     "output_type": "execute_result"
    }
   ],
   "source": [
    "df.shape"
   ]
  },
  {
   "cell_type": "code",
   "execution_count": 53,
   "id": "f26e0f69-fd47-435e-b381-30480ebdf95a",
   "metadata": {},
   "outputs": [
    {
     "data": {
      "text/plain": [
       "np.int64(412)"
      ]
     },
     "execution_count": 53,
     "metadata": {},
     "output_type": "execute_result"
    }
   ],
   "source": [
    "df.isna().sum().sum()"
   ]
  },
  {
   "cell_type": "code",
   "execution_count": 57,
   "id": "4c10c159-368d-4e0c-9777-fc3c778cfe82",
   "metadata": {},
   "outputs": [
    {
     "data": {
      "text/plain": [
       "np.int64(0)"
      ]
     },
     "execution_count": 57,
     "metadata": {},
     "output_type": "execute_result"
    }
   ],
   "source": [
    "df.duplicated().sum()"
   ]
  },
  {
   "cell_type": "code",
   "execution_count": 61,
   "id": "d3e55972-f863-48b8-b686-61c76fd5f97a",
   "metadata": {},
   "outputs": [
    {
     "data": {
      "text/plain": [
       "Index        132\n",
       "brand      31771\n",
       "name       36523\n",
       "price      47653\n",
       "rating     30294\n",
       "mileage    30847\n",
       "cc         28637\n",
       "power      24536\n",
       "type       29733\n",
       "dtype: int64"
      ]
     },
     "execution_count": 61,
     "metadata": {},
     "output_type": "execute_result"
    }
   ],
   "source": [
    "df.memory_usage(deep=True).sum()"
   ]
  },
  {
   "cell_type": "code",
   "execution_count": 43,
   "id": "776acf42-cc59-4384-87b9-df1980763558",
   "metadata": {},
   "outputs": [
    {
     "data": {
      "text/plain": [
       "age                  73\n",
       "workclass             9\n",
       "fnlwgt            21648\n",
       "education            16\n",
       "education.num        16\n",
       "marital.status        7\n",
       "occupation           15\n",
       "relationship          6\n",
       "race                  5\n",
       "sex                   2\n",
       "capital.gain        119\n",
       "capital.loss         92\n",
       "hours.per.week       94\n",
       "native.country       42\n",
       "income                2\n",
       "dtype: int64"
      ]
     },
     "execution_count": 43,
     "metadata": {},
     "output_type": "execute_result"
    }
   ],
   "source": [
    "df.nunique()"
   ]
  },
  {
   "cell_type": "code",
   "execution_count": 89,
   "id": "4915f809-2c14-432b-ae26-18811efc6dd4",
   "metadata": {},
   "outputs": [
    {
     "data": {
      "text/plain": [
       "1"
      ]
     },
     "execution_count": 89,
     "metadata": {},
     "output_type": "execute_result"
    }
   ],
   "source": [
    "df[\"name\"].dropna().map(type).nunique()"
   ]
  },
  {
   "cell_type": "code",
   "execution_count": 109,
   "id": "120cac24-9f8c-47cd-8991-a4a722f0a3a8",
   "metadata": {},
   "outputs": [
    {
     "data": {
      "text/plain": [
       "84    Bajaj Pulsar RS200\n",
       "Name: name, dtype: object"
      ]
     },
     "execution_count": 109,
     "metadata": {},
     "output_type": "execute_result"
    }
   ],
   "source": [
    "df[\"name\"].sample(1)"
   ]
  },
  {
   "cell_type": "code",
   "execution_count": 91,
   "id": "9553e9e3-092a-48dc-ad31-c2402363b285",
   "metadata": {},
   "outputs": [],
   "source": [
    "MODEL_REGISTRY = {\"Logistic Regression\": \"logistic\", \"Support Vector Machine\": \"svm\"}"
   ]
  },
  {
   "cell_type": "code",
   "execution_count": 105,
   "id": "b6b5340b-b0de-4146-8d4a-ecb0dbd66c86",
   "metadata": {},
   "outputs": [
    {
     "data": {
      "text/plain": [
       "['Logistic Regression', 'Support Vector Machine']"
      ]
     },
     "execution_count": 105,
     "metadata": {},
     "output_type": "execute_result"
    }
   ],
   "source": [
    "list(MODEL_REGISTRY.keys())"
   ]
  },
  {
   "cell_type": "code",
   "execution_count": 44,
   "id": "4ac27137-f0c5-4802-853a-ea2cad7fee5b",
   "metadata": {},
   "outputs": [
    {
     "data": {
      "text/plain": [
       "{'age': {'count': 32561.0,\n",
       "  'unique': nan,\n",
       "  'top': nan,\n",
       "  'freq': nan,\n",
       "  'mean': 38.58164675532078,\n",
       "  'std': 13.640432553581341,\n",
       "  'min': 17.0,\n",
       "  '25%': 28.0,\n",
       "  '50%': 37.0,\n",
       "  '75%': 48.0,\n",
       "  'max': 90.0},\n",
       " 'workclass': {'count': 32561,\n",
       "  'unique': 9,\n",
       "  'top': 'Private',\n",
       "  'freq': 22696,\n",
       "  'mean': nan,\n",
       "  'std': nan,\n",
       "  'min': nan,\n",
       "  '25%': nan,\n",
       "  '50%': nan,\n",
       "  '75%': nan,\n",
       "  'max': nan},\n",
       " 'fnlwgt': {'count': 32561.0,\n",
       "  'unique': nan,\n",
       "  'top': nan,\n",
       "  'freq': nan,\n",
       "  'mean': 189778.36651208502,\n",
       "  'std': 105549.97769702224,\n",
       "  'min': 12285.0,\n",
       "  '25%': 117827.0,\n",
       "  '50%': 178356.0,\n",
       "  '75%': 237051.0,\n",
       "  'max': 1484705.0},\n",
       " 'education': {'count': 32561,\n",
       "  'unique': 16,\n",
       "  'top': 'HS-grad',\n",
       "  'freq': 10501,\n",
       "  'mean': nan,\n",
       "  'std': nan,\n",
       "  'min': nan,\n",
       "  '25%': nan,\n",
       "  '50%': nan,\n",
       "  '75%': nan,\n",
       "  'max': nan},\n",
       " 'education.num': {'count': 32561.0,\n",
       "  'unique': nan,\n",
       "  'top': nan,\n",
       "  'freq': nan,\n",
       "  'mean': 10.0806793403151,\n",
       "  'std': 2.5727203320673877,\n",
       "  'min': 1.0,\n",
       "  '25%': 9.0,\n",
       "  '50%': 10.0,\n",
       "  '75%': 12.0,\n",
       "  'max': 16.0},\n",
       " 'marital.status': {'count': 32561,\n",
       "  'unique': 7,\n",
       "  'top': 'Married-civ-spouse',\n",
       "  'freq': 14976,\n",
       "  'mean': nan,\n",
       "  'std': nan,\n",
       "  'min': nan,\n",
       "  '25%': nan,\n",
       "  '50%': nan,\n",
       "  '75%': nan,\n",
       "  'max': nan},\n",
       " 'occupation': {'count': 32561,\n",
       "  'unique': 15,\n",
       "  'top': 'Prof-specialty',\n",
       "  'freq': 4140,\n",
       "  'mean': nan,\n",
       "  'std': nan,\n",
       "  'min': nan,\n",
       "  '25%': nan,\n",
       "  '50%': nan,\n",
       "  '75%': nan,\n",
       "  'max': nan},\n",
       " 'relationship': {'count': 32561,\n",
       "  'unique': 6,\n",
       "  'top': 'Husband',\n",
       "  'freq': 13193,\n",
       "  'mean': nan,\n",
       "  'std': nan,\n",
       "  'min': nan,\n",
       "  '25%': nan,\n",
       "  '50%': nan,\n",
       "  '75%': nan,\n",
       "  'max': nan},\n",
       " 'race': {'count': 32561,\n",
       "  'unique': 5,\n",
       "  'top': 'White',\n",
       "  'freq': 27816,\n",
       "  'mean': nan,\n",
       "  'std': nan,\n",
       "  'min': nan,\n",
       "  '25%': nan,\n",
       "  '50%': nan,\n",
       "  '75%': nan,\n",
       "  'max': nan},\n",
       " 'sex': {'count': 32561,\n",
       "  'unique': 2,\n",
       "  'top': 'Male',\n",
       "  'freq': 21790,\n",
       "  'mean': nan,\n",
       "  'std': nan,\n",
       "  'min': nan,\n",
       "  '25%': nan,\n",
       "  '50%': nan,\n",
       "  '75%': nan,\n",
       "  'max': nan},\n",
       " 'capital.gain': {'count': 32561.0,\n",
       "  'unique': nan,\n",
       "  'top': nan,\n",
       "  'freq': nan,\n",
       "  'mean': 1077.6488437087312,\n",
       "  'std': 7385.29208484034,\n",
       "  'min': 0.0,\n",
       "  '25%': 0.0,\n",
       "  '50%': 0.0,\n",
       "  '75%': 0.0,\n",
       "  'max': 99999.0},\n",
       " 'capital.loss': {'count': 32561.0,\n",
       "  'unique': nan,\n",
       "  'top': nan,\n",
       "  'freq': nan,\n",
       "  'mean': 87.303829734959,\n",
       "  'std': 402.96021864899967,\n",
       "  'min': 0.0,\n",
       "  '25%': 0.0,\n",
       "  '50%': 0.0,\n",
       "  '75%': 0.0,\n",
       "  'max': 4356.0},\n",
       " 'hours.per.week': {'count': 32561.0,\n",
       "  'unique': nan,\n",
       "  'top': nan,\n",
       "  'freq': nan,\n",
       "  'mean': 40.437455852092995,\n",
       "  'std': 12.347428681731843,\n",
       "  'min': 1.0,\n",
       "  '25%': 40.0,\n",
       "  '50%': 40.0,\n",
       "  '75%': 45.0,\n",
       "  'max': 99.0},\n",
       " 'native.country': {'count': 32561,\n",
       "  'unique': 42,\n",
       "  'top': 'United-States',\n",
       "  'freq': 29170,\n",
       "  'mean': nan,\n",
       "  'std': nan,\n",
       "  'min': nan,\n",
       "  '25%': nan,\n",
       "  '50%': nan,\n",
       "  '75%': nan,\n",
       "  'max': nan},\n",
       " 'income': {'count': 32561,\n",
       "  'unique': 2,\n",
       "  'top': '<=50K',\n",
       "  'freq': 24720,\n",
       "  'mean': nan,\n",
       "  'std': nan,\n",
       "  'min': nan,\n",
       "  '25%': nan,\n",
       "  '50%': nan,\n",
       "  '75%': nan,\n",
       "  'max': nan}}"
      ]
     },
     "execution_count": 44,
     "metadata": {},
     "output_type": "execute_result"
    }
   ],
   "source": [
    "df.describe(include='all').to_dict()"
   ]
  },
  {
   "cell_type": "code",
   "execution_count": null,
   "id": "ca8a3fca-dbc8-4fef-997c-1db36c890bdb",
   "metadata": {},
   "outputs": [],
   "source": []
  },
  {
   "cell_type": "code",
   "execution_count": null,
   "id": "383beeff-9ae5-4d95-8f0b-b140fb3866cb",
   "metadata": {},
   "outputs": [],
   "source": []
  },
  {
   "cell_type": "code",
   "execution_count": 55,
   "id": "72c2a0c4-69c6-4940-96c6-8d5aa34072a2",
   "metadata": {},
   "outputs": [],
   "source": [
    "import seaborn as sns\n",
    "import matplotlib.pyplot as plt\n",
    "\n",
    "def plot_distributions(df, num_cols=None, cat_cols=None):\n",
    "    if num_cols is None:\n",
    "        num_cols = df.select_dtypes(include='number').columns\n",
    "    if cat_cols is None:\n",
    "        cat_cols = df.select_dtypes(include='object').columns\n",
    "\n",
    "    for col in num_cols:\n",
    "        sns.histplot(df[col].dropna(), kde=True)\n",
    "        plt.title(f\"Distribution of {col}\")\n",
    "        plt.show()\n",
    "\n",
    "    for col in cat_cols:\n",
    "        df[col].value_counts().plot(kind='bar')\n",
    "        plt.title(f\"Category Distribution: {col}\")\n",
    "        plt.xticks(rotation=45)\n",
    "        plt.show()\n",
    "\n",
    "def plot_correlation(df):\n",
    "    corr = df.select_dtypes(include='number').corr()\n",
    "    sns.heatmap(corr, annot=True, fmt=\".2f\", cmap=\"coolwarm\")\n",
    "    plt.title(\"Correlation Heatmap\")\n",
    "    plt.show()\n"
   ]
  },
  {
   "cell_type": "code",
   "execution_count": 57,
   "id": "df3d3072-0e4e-42f6-9b2e-571e077651e8",
   "metadata": {},
   "outputs": [],
   "source": [
    "df_cor = df[['sex','race', 'income']]"
   ]
  },
  {
   "cell_type": "code",
   "execution_count": 59,
   "id": "fafe268f-99d3-435f-ac12-cd6e6b54eb0e",
   "metadata": {},
   "outputs": [
    {
     "data": {
      "text/plain": [
       "sex       object\n",
       "race      object\n",
       "income    object\n",
       "dtype: object"
      ]
     },
     "execution_count": 59,
     "metadata": {},
     "output_type": "execute_result"
    }
   ],
   "source": [
    "df_cor.dtypes"
   ]
  },
  {
   "cell_type": "code",
   "execution_count": 61,
   "id": "ef6f6759-4230-4eab-adf8-0d92d39a2874",
   "metadata": {},
   "outputs": [
    {
     "data": {
      "image/png": "[encoded data removed]",
      "text/plain": [
       "<Figure size 640x480 with 2 Axes>"
      ]
     },
     "metadata": {},
     "output_type": "display_data"
    }
   ],
   "source": [
    "plot_correlation(df)"
   ]
  },
  {
   "cell_type": "code",
   "execution_count": 63,
   "id": "225cbfd4-e774-4383-8868-928b71faedc9",
   "metadata": {},
   "outputs": [
    {
     "data": {
      "image/png": "[encoded data removed]",
      "text/plain": [
       "<Figure size 640x480 with 1 Axes>"
      ]
     },
     "metadata": {},
     "output_type": "display_data"
    },
    {
     "data": {
      "image/png": "[encoded data removed]",
      "text/plain": [
       "<Figure size 640x480 with 1 Axes>"
      ]
     },
     "metadata": {},
     "output_type": "display_data"
    }
   ],
   "source": [
    "num_cols = df.select_dtypes(include=['number']).columns.tolist()\n",
    "cat_cols = df.select_dtypes(include=['object', 'category', 'bool']).columns.tolist()\n",
    "\n",
    "plot_distributions(df, num_cols=num_cols[:1], cat_cols=cat_cols[:1] )"
   ]
  },
  {
   "cell_type": "code",
   "execution_count": 65,
   "id": "4834caba-bb43-40d5-8798-c0d13c3cd01f",
   "metadata": {},
   "outputs": [
    {
     "data": {
      "text/plain": [
       "income\n",
       "<=50K    24720\n",
       ">50K      7841\n",
       "Name: count, dtype: int64"
      ]
     },
     "execution_count": 65,
     "metadata": {},
     "output_type": "execute_result"
    }
   ],
   "source": [
    "df[target_col].value_counts()"
   ]
  },
  {
   "cell_type": "code",
   "execution_count": 67,
   "id": "606b534b-1c80-4070-b5dc-1d2dc0fe410a",
   "metadata": {},
   "outputs": [
    {
     "data": {
      "text/plain": [
       "income\n",
       "<=50K    24720\n",
       ">50K      7841\n",
       "Name: count, dtype: int64"
      ]
     },
     "execution_count": 67,
     "metadata": {},
     "output_type": "execute_result"
    }
   ],
   "source": [
    "counts =df[target_col].value_counts()\n",
    "counts"
   ]
  },
  {
   "cell_type": "code",
   "execution_count": 196,
   "id": "efe23dc9-54d4-46df-b412-0ee328f495a2",
   "metadata": {},
   "outputs": [],
   "source": [
    "import re\n",
    "def plot_data_distribution_by_column(df, column_name, save=False, save_path=\"\"):\n",
    "    \"\"\"Plot the distribution of values in a DataFrame column.\n",
    "    \n",
    "    For categorical columns: bar plot with counts and percentages.\n",
    "    For numerical columns: histogram with counts.\n",
    "    \"\"\"\n",
    "    data = df[column_name]\n",
    "\n",
    "    title =  re.sub(r'[_\\-.]', ' ', column_name).title()\n",
    "\n",
    "    if pd.api.types.is_numeric_dtype(data):\n",
    "        # Numerical column: histogram\n",
    "        plt.hist(data, bins='auto', edgecolor='black')\n",
    "        plt.xlabel(title)\n",
    "        plt.ylabel(\"Frequency\")\n",
    "        plt.title(f\"Histogram of {title}\")\n",
    "    else:\n",
    "        # Categorical column: bar plot with count + percentage\n",
    "        counts = data.value_counts()\n",
    "        total = counts.sum()\n",
    "        ax = counts.plot(kind='bar')\n",
    "        for i, (label, count) in enumerate(counts.items()):\n",
    "            pct = count / total * 100\n",
    "            ax.text(i, count + total * 0.01, f\"{count} ({pct:.2f}%)\", ha='center', fontsize=9)\n",
    "        plt.xlabel(title)\n",
    "        plt.ylabel(\"Number of Instances\")\n",
    "        plt.title(f\"Distribution of {title}\")\n",
    "\n",
    "    if save and save_path:\n",
    "        plt.savefig(f\"{save_path}/{column_name}_distribution.png\", bbox_inches=\"tight\")\n",
    "\n",
    "    plt.show()\n",
    "    plt.close()    "
   ]
  },
  {
   "cell_type": "code",
   "execution_count": 198,
   "id": "2ce38763-14c8-4ab1-bce7-71618e7191de",
   "metadata": {},
   "outputs": [
    {
     "data": {
      "image/png": "[encoded data removed]",
      "text/plain": [
       "<Figure size 640x480 with 1 Axes>"
      ]
     },
     "metadata": {},
     "output_type": "display_data"
    }
   ],
   "source": [
    "plot_data_distribution_by_column(df, target_col)"
   ]
  },
  {
   "cell_type": "code",
   "execution_count": 200,
   "id": "5ed1d31e-03cb-40fc-bed3-9f4f072ecffa",
   "metadata": {},
   "outputs": [
    {
     "data": {
      "image/png": "[encoded data removed]",
      "text/plain": [
       "<Figure size 640x480 with 1 Axes>"
      ]
     },
     "metadata": {},
     "output_type": "display_data"
    }
   ],
   "source": [
    "plot_data_distribution_by_column(df, sensitive_col[1])"
   ]
  },
  {
   "cell_type": "code",
   "execution_count": 202,
   "id": "5d724b6a-2f36-4d9a-813a-fc7a3632e139",
   "metadata": {},
   "outputs": [
    {
     "data": {
      "image/png": "[encoded data removed]",
      "text/plain": [
       "<Figure size 640x480 with 1 Axes>"
      ]
     },
     "metadata": {},
     "output_type": "display_data"
    }
   ],
   "source": [
    "plot_data_distribution_by_column(df, \"age\")"
   ]
  },
  {
   "cell_type": "code",
   "execution_count": 254,
   "id": "52f760d6-706d-4783-9a58-de978ea4f700",
   "metadata": {},
   "outputs": [
    {
     "data": {
      "text/plain": [
       "{'age': 0,\n",
       " 'workclass': 0,\n",
       " 'fnlwgt': 0,\n",
       " 'education': 0,\n",
       " 'education.num': 0,\n",
       " 'marital.status': 0,\n",
       " 'occupation': 0,\n",
       " 'relationship': 0,\n",
       " 'race': 0,\n",
       " 'sex': 0,\n",
       " 'capital.gain': 0,\n",
       " 'capital.loss': 0,\n",
       " 'hours.per.week': 0,\n",
       " 'native.country': 0,\n",
       " 'income': 0}"
      ]
     },
     "execution_count": 254,
     "metadata": {},
     "output_type": "execute_result"
    }
   ],
   "source": [
    "null_or_empty_counts = (df.isna().sum(axis=0) + (df == '').sum(axis=0)).to_dict()\n",
    "null_or_empty_counts"
   ]
  },
  {
   "cell_type": "code",
   "execution_count": 270,
   "id": "68016c08-3e3e-401b-8de5-8bdc27a4c0d5",
   "metadata": {},
   "outputs": [
    {
     "data": {
      "text/html": [
       "<div>\n",
       "<style scoped>\n",
       "    .dataframe tbody tr th:only-of-type {\n",
       "        vertical-align: middle;\n",
       "    }\n",
       "\n",
       "    .dataframe tbody tr th {\n",
       "        vertical-align: top;\n",
       "    }\n",
       "\n",
       "    .dataframe thead th {\n",
       "        text-align: right;\n",
       "    }\n",
       "</style>\n",
       "<table border=\"1\" class=\"dataframe\">\n",
       "  <thead>\n",
       "    <tr style=\"text-align: right;\">\n",
       "      <th></th>\n",
       "      <th>Number of Null &amp; Empty Values</th>\n",
       "    </tr>\n",
       "  </thead>\n",
       "  <tbody>\n",
       "    <tr>\n",
       "      <th>age</th>\n",
       "      <td>0</td>\n",
       "    </tr>\n",
       "    <tr>\n",
       "      <th>workclass</th>\n",
       "      <td>0</td>\n",
       "    </tr>\n",
       "    <tr>\n",
       "      <th>fnlwgt</th>\n",
       "      <td>0</td>\n",
       "    </tr>\n",
       "    <tr>\n",
       "      <th>education</th>\n",
       "      <td>0</td>\n",
       "    </tr>\n",
       "    <tr>\n",
       "      <th>education.num</th>\n",
       "      <td>0</td>\n",
       "    </tr>\n",
       "    <tr>\n",
       "      <th>marital.status</th>\n",
       "      <td>0</td>\n",
       "    </tr>\n",
       "    <tr>\n",
       "      <th>occupation</th>\n",
       "      <td>0</td>\n",
       "    </tr>\n",
       "    <tr>\n",
       "      <th>relationship</th>\n",
       "      <td>0</td>\n",
       "    </tr>\n",
       "    <tr>\n",
       "      <th>race</th>\n",
       "      <td>0</td>\n",
       "    </tr>\n",
       "    <tr>\n",
       "      <th>sex</th>\n",
       "      <td>0</td>\n",
       "    </tr>\n",
       "    <tr>\n",
       "      <th>capital.gain</th>\n",
       "      <td>0</td>\n",
       "    </tr>\n",
       "    <tr>\n",
       "      <th>capital.loss</th>\n",
       "      <td>0</td>\n",
       "    </tr>\n",
       "    <tr>\n",
       "      <th>hours.per.week</th>\n",
       "      <td>0</td>\n",
       "    </tr>\n",
       "    <tr>\n",
       "      <th>native.country</th>\n",
       "      <td>0</td>\n",
       "    </tr>\n",
       "    <tr>\n",
       "      <th>income</th>\n",
       "      <td>0</td>\n",
       "    </tr>\n",
       "  </tbody>\n",
       "</table>\n",
       "</div>"
      ],
      "text/plain": [
       "                Number of Null & Empty Values\n",
       "age                                         0\n",
       "workclass                                   0\n",
       "fnlwgt                                      0\n",
       "education                                   0\n",
       "education.num                               0\n",
       "marital.status                              0\n",
       "occupation                                  0\n",
       "relationship                                0\n",
       "race                                        0\n",
       "sex                                         0\n",
       "capital.gain                                0\n",
       "capital.loss                                0\n",
       "hours.per.week                              0\n",
       "native.country                              0\n",
       "income                                      0"
      ]
     },
     "execution_count": 270,
     "metadata": {},
     "output_type": "execute_result"
    }
   ],
   "source": [
    "pd.DataFrame.from_dict(null_or_empty_counts, orient='index', columns=['Number of Null & Empty Values'])"
   ]
  },
  {
   "cell_type": "code",
   "execution_count": null,
   "id": "8ba42cba-8cb5-4f6b-ba3d-b08516589f16",
   "metadata": {},
   "outputs": [],
   "source": [
    "def generate_stats(df: pd.DataFrame, target_col: str, sensitive_col: [str]):\n",
    "    \n",
    "    pass"
   ]
  },
  {
   "cell_type": "markdown",
   "id": "d3dab575-2d60-457e-97dc-839ec3f82173",
   "metadata": {},
   "source": [
    "# ToDo\n",
    "## Overview \n",
    "\n",
    "### Dataset statistics\n",
    "Number of variables\t8\n",
    "Number of observations\t561\n",
    "Missing cells\t412\n",
    "Missing cells (%)\t9.2%\n",
    "Duplicate rows\t0\n",
    "Duplicate rows (%)\t0.0%\n",
    "Total size in memory\t254.0 KiB\n",
    "Average record size in memory\t463.7 \n",
    "\n",
    "### Variable types | how many: \n",
    "Text\t6, Categorical\t2\n",
    "\n",
    "\n",
    "\n",
    "## Alerts:\n",
    "\n",
    "type has constant value \"bike\"\tConstant\n",
    "mileage has 17 (3.0%) missing values\tMissing\n",
    "cc has 106 (18.9%) missing values\tMissing\n",
    "power has 289 (51.5%) missing values\tMissing\n",
    "name has unique values"
   ]
  },
  {
   "cell_type": "markdown",
   "id": "9d907556-885a-4f5b-bf99-299ba5c376c7",
   "metadata": {},
   "source": [
    "# ToDO:\n",
    "\n",
    "for each column (select box):\n",
    "Distinct\t561\n",
    "Distinct (%)\t100.0%\n",
    "Missing\t0\n",
    "Missing (%)\t0.0%\n",
    "Memory size\t35.8 KiB"
   ]
  },
  {
   "cell_type": "code",
   "execution_count": null,
   "id": "54d1e455-c904-468c-972d-f7c33b812a63",
   "metadata": {},
   "outputs": [],
   "source": []
  },
  {
   "cell_type": "code",
   "execution_count": null,
   "id": "e568f4fe-dcbb-455a-875d-9fdc416d16ef",
   "metadata": {},
   "outputs": [],
   "source": []
  }
 ],
 "metadata": {
  "kernelspec": {
   "display_name": "fairfluence",
   "language": "python",
   "name": "fairfluence"
  },
  "language_info": {
   "codemirror_mode": {
    "name": "ipython",
    "version": 3
   },
   "file_extension": ".py",
   "mimetype": "text/x-python",
   "name": "python",
   "nbconvert_exporter": "python",
   "pygments_lexer": "ipython3",
   "version": "3.12.7"
  }
 },
 "nbformat": 4,
 "nbformat_minor": 5
}
